{
  "nbformat": 4,
  "nbformat_minor": 0,
  "metadata": {
    "colab": {
      "provenance": [],
      "authorship_tag": "ABX9TyMXVNKw8zpGGsaP6sJX51S5",
      "include_colab_link": true
    },
    "kernelspec": {
      "name": "python3",
      "display_name": "Python 3"
    },
    "language_info": {
      "name": "python"
    }
  },
  "cells": [
    {
      "cell_type": "markdown",
      "metadata": {
        "id": "view-in-github",
        "colab_type": "text"
      },
      "source": [
        "<a href=\"https://colab.research.google.com/github/K-Jadeja/Zapier-Langchain-AI-agent/blob/main/langchainXzapier.ipynb\" target=\"_parent\"><img src=\"https://colab.research.google.com/assets/colab-badge.svg\" alt=\"Open In Colab\"/></a>"
      ]
    },
    {
      "cell_type": "code",
      "source": [
        "!pip install langchain\n",
        "!pip install openai"
      ],
      "metadata": {
        "id": "DrTQCQ-K5sdM"
      },
      "execution_count": null,
      "outputs": []
    },
    {
      "cell_type": "code",
      "execution_count": 3,
      "metadata": {
        "id": "Avu4A-Tw4WDM"
      },
      "outputs": [],
      "source": [
        "import os\n",
        "from langchain.llms import OpenAI\n",
        "from langchain.agents import initialize_agent\n",
        "from langchain.agents.agent_toolkits import ZapierToolkit\n",
        "from langchain.utilities.zapier import ZapierNLAWrapper"
      ]
    },
    {
      "cell_type": "markdown",
      "source": [
        "Get your Zapier key form https://zapier.com/l/natural-language-actions"
      ],
      "metadata": {
        "id": "_Ka2cH67Qjmb"
      }
    },
    {
      "cell_type": "code",
      "source": [
        "os.environ[\"OPENAI_API_KEY\"] = \"YOUR_OPEN_API_KEY\"\n",
        "os.environ[\"ZAPIER_NLA_API_KEY\"] = \"YOUR_ZAPIER_API_KEY\""
      ],
      "metadata": {
        "id": "6JhSPbTF4Zi1"
      },
      "execution_count": 4,
      "outputs": []
    },
    {
      "cell_type": "markdown",
      "source": [
        "You can also import ConversationalBufferMemory from langchain so it remembers what you said before\n",
        "\n",
        "• Keep the temperature low\n",
        "\n",
        "• ZERO_SHOT_REACT_DESCRIPTION - An agent type that uses ReAct framework to determine which tool to use based solely on the tool’s description. Any number of tools can be provided.\n",
        "\n",
        "• Verbose=True gives us a peak into the agent's thought process"
      ],
      "metadata": {
        "id": "ztm1_dUXIbUg"
      }
    },
    {
      "cell_type": "code",
      "source": [
        "llm = OpenAI(temperature=0)\n",
        "zapier = ZapierNLAWrapper()\n",
        "toolkit = ZapierToolkit.from_zapier_nla_wrapper(zapier)\n",
        "agent = initialize_agent(toolkit.get_tools(), llm, agent=\"zero-shot-react-description\", verbose=True)"
      ],
      "metadata": {
        "id": "hi-EqHRF4uQy"
      },
      "execution_count": 5,
      "outputs": []
    },
    {
      "cell_type": "markdown",
      "source": [
        "The code below let's us see all the tools we added from zapier and their descriptions"
      ],
      "metadata": {
        "id": "FN8H7E0hKD0e"
      }
    },
    {
      "cell_type": "code",
      "source": [
        "for tool in toolkit.get_tools():\n",
        "    print (tool.name)\n",
        "    print (tool.description)\n",
        "    print (\"\\n\\n\")"
      ],
      "metadata": {
        "id": "5AwrYj-i4tn0"
      },
      "execution_count": null,
      "outputs": []
    },
    {
      "cell_type": "code",
      "source": [
        "agent.run(\"Get the last email I received from Adrian. Create a draft email in gmail back to him giving some key insights\")"
      ],
      "metadata": {
        "id": "79zm-uj_4uXF"
      },
      "execution_count": null,
      "outputs": []
    },
    {
      "cell_type": "code",
      "source": [
        "agent.run(\"Send an Email to Adrian@conyx.ai via gmail that is a pitch for why he should visit https://conyx.ai to help his small business integrate autonomous agent services today. Provide a hyperlink to the website and make the email likely to convert to website visitors.\")"
      ],
      "metadata": {
        "id": "N_zVUAXK5CR5"
      },
      "execution_count": null,
      "outputs": []
    }
  ]
}